{
 "cells": [
  {
   "cell_type": "code",
   "execution_count": 73,
   "metadata": {},
   "outputs": [],
   "source": [
    "import pandas as pd\n",
    "import numpy as np\n",
    "import matplotlib.pyplot as plt\n",
    "from collections import Counter"
   ]
  },
  {
   "cell_type": "code",
   "execution_count": 102,
   "metadata": {},
   "outputs": [],
   "source": [
    "df=pd.read_csv(\"D:\\DRIVE PART 2\\coding ninjaa datasets\\zomato_file.csv\",encoding = \"ISO-8859-1\")\n",
    "df=df[df['Country Code']==1]\n",
    "#print(df.head())"
   ]
  },
  {
   "cell_type": "code",
   "execution_count": 98,
   "metadata": {},
   "outputs": [],
   "source": [
    "df.City.replace(\"New Delhi\",\"Delhi-NCR\",inplace=True)\n",
    "df.City.replace(\"Ghaziabad\",\"Delhi-NCR\",inplace=True)\n",
    "df.City.replace(\"Noida\",\"Delhi-NCR\",inplace=True)\n",
    "df.City.replace(\"Gurgaon\",\"Delhi-NCR\",inplace=True)\n",
    "df.City.replace(\"Faridabad\",'Delhi-NCR',inplace=True)"
   ]
  },
  {
   "cell_type": "code",
   "execution_count": 99,
   "metadata": {},
   "outputs": [],
   "source": [
    "mydict={}\n",
    "for i in df.City:\n",
    "    if i==\"Delhi-NCR\":\n",
    "        mydict[i]=mydict.get(i,0)+1\n",
    "    else:\n",
    "        mydict['Rest of India']=mydict.get(\"Rest of India\",0)+1"
   ]
  },
  {
   "cell_type": "code",
   "execution_count": 100,
   "metadata": {},
   "outputs": [],
   "source": [
    "l1=[]\n",
    "l2=[]\n",
    "l3=[]\n",
    "k=Counter(mydict)\n",
    "h=k.most_common(2)\n",
    "for i,j in h:\n",
    "    l1.append(i)\n",
    "    l2.append(j)"
   ]
  },
  {
   "cell_type": "code",
   "execution_count": 101,
   "metadata": {},
   "outputs": [
    {
     "name": "stdout",
     "output_type": "stream",
     "text": [
      "Delhi-NCR: 7947\n",
      "Rest of India: 705\n"
     ]
    },
    {
     "data": {
      "image/png": "[encoded data removed]",
      "text/plain": [
       "<Figure size 432x288 with 1 Axes>"
      ]
     },
     "metadata": {
      "needs_background": "light"
     },
     "output_type": "display_data"
    }
   ],
   "source": [
    "print('Delhi-NCR:',mydict['Delhi-NCR'])\n",
    "print('Rest of India:',mydict['Rest of India'])\n",
    "\n",
    "plt.bar(l1,l2,width=0.9)\n",
    "plt.xticks(rotation=\"horizontal\")\n",
    "plt.xlabel(\"Delhi-NCR vs Rest of India\")\n",
    "plt.ylabel(\"Number of Restaurants\")\n",
    "plt.title(\"Bar Graph\")\n",
    "plt.show()"
   ]
  },
  {
   "cell_type": "code",
   "execution_count": null,
   "metadata": {},
   "outputs": [],
   "source": []
  }
 ],
 "metadata": {
  "kernelspec": {
   "display_name": "Python 3",
   "language": "python",
   "name": "python3"
  },
  "language_info": {
   "codemirror_mode": {
    "name": "ipython",
    "version": 3
   },
   "file_extension": ".py",
   "mimetype": "text/x-python",
   "name": "python",
   "nbconvert_exporter": "python",
   "pygments_lexer": "ipython3",
   "version": "3.7.4"
  }
 },
 "nbformat": 4,
 "nbformat_minor": 2
}
