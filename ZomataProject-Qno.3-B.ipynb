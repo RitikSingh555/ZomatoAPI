{
 "cells": [
  {
   "cell_type": "code",
   "execution_count": 16,
   "metadata": {},
   "outputs": [],
   "source": [
    "import pandas as pd\n",
    "import numpy as np\n",
    "import matplotlib.pyplot as plt\n",
    "from collections import Counter\n",
    "df=pd.read_csv(\"D:\\DRIVE PART 2\\coding ninjaa datasets\\zomato_file.csv\",encoding = \"ISO-8859-1\")\n",
    "df=df[df['Country Code']==1]\n",
    "df['Aggregate rating'].replace(0,np.nan,inplace=True)\n",
    "df.dropna(inplace=True,subset=['Aggregate rating'])\n",
    "np_rating=np.array(df['Aggregate rating'],dtype=float)"
   ]
  },
  {
   "cell_type": "code",
   "execution_count": 17,
   "metadata": {},
   "outputs": [
    {
     "data": {
      "image/png": "[encoded data removed]",
      "text/plain": [
       "<Figure size 432x288 with 1 Axes>"
      ]
     },
     "metadata": {
      "needs_background": "light"
     },
     "output_type": "display_data"
    }
   ],
   "source": [
    "xt=[1.0,1.5,2.0,2.5,3.0,3.5,4.0,4.5,5.0]\n",
    "plt.hist(np_rating,edgecolor=\"black\")\n",
    "plt.xticks(xt)\n",
    "plt.show()"
   ]
  },
  {
   "cell_type": "code",
   "execution_count": null,
   "metadata": {},
   "outputs": [],
   "source": []
  }
 ],
 "metadata": {
  "kernelspec": {
   "display_name": "Python 3",
   "language": "python",
   "name": "python3"
  },
  "language_info": {
   "codemirror_mode": {
    "name": "ipython",
    "version": 3
   },
   "file_extension": ".py",
   "mimetype": "text/x-python",
   "name": "python",
   "nbconvert_exporter": "python",
   "pygments_lexer": "ipython3",
   "version": "3.7.4"
  }
 },
 "nbformat": 4,
 "nbformat_minor": 2
}
