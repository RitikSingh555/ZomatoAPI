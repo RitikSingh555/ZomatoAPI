{
 "cells": [
  {
   "cell_type": "code",
   "execution_count": 1,
   "metadata": {},
   "outputs": [],
   "source": [
    "import pandas as pd\n",
    "import numpy as np\n",
    "import matplotlib.pyplot as plt\n",
    "from collections import Counter"
   ]
  },
  {
   "cell_type": "code",
   "execution_count": 2,
   "metadata": {},
   "outputs": [],
   "source": [
    "df=pd.read_csv(\"D:\\DRIVE PART 2\\coding ninjaa datasets\\zomato_file.csv\",encoding = \"ISO-8859-1\")\n",
    "df=df[df['Country Code']==1]"
   ]
  },
  {
   "cell_type": "code",
   "execution_count": 3,
   "metadata": {},
   "outputs": [],
   "source": [
    "df.City.replace(\"New Delhi\",\"Delhi-NCR\",inplace=True)\n",
    "df.City.replace(\"Ghaziabad\",\"Delhi-NCR\",inplace=True)\n",
    "df.City.replace(\"Noida\",\"Delhi-NCR\",inplace=True)\n",
    "df.City.replace(\"Gurgaon\",\"Delhi-NCR\",inplace=True)\n",
    "df.City.replace(\"Faridabad\",'Delhi-NCR',inplace=True)\n",
    "#print(len(df.Cuisines))"
   ]
  },
  {
   "cell_type": "code",
   "execution_count": 4,
   "metadata": {},
   "outputs": [],
   "source": [
    "df[\"Cuisines\"].replace(\"\",np.nan, inplace = True)\n",
    "df.dropna(inplace=True, subset=[\"Cuisines\"])\n",
    "df1=df[df.City==\"Delhi-NCR\"]\n",
    "df2=df[df.City!=\"Delhi-NCR\"]\n",
    "l=[]\n",
    "s1=set()\n",
    "s2=set()\n",
    "for i in df1.Cuisines:\n",
    "    st=i.split(',')\n",
    "    for i in st:\n",
    "        s1.add(i.strip())\n",
    "for i in df2.Cuisines:\n",
    "    st=i.split(',')\n",
    "    for i in st:\n",
    "        s2.add(i.strip())\n",
    "#print(s1)\n",
    "#print(s2)\n"
   ]
  },
  {
   "cell_type": "code",
   "execution_count": 6,
   "metadata": {},
   "outputs": [
    {
     "data": {
      "text/plain": [
       "{'BBQ', 'Cajun', 'German', 'Malwani'}"
      ]
     },
     "execution_count": 6,
     "metadata": {},
     "output_type": "execute_result"
    }
   ],
   "source": [
    "tup=(s2.difference(s1))\n",
    "tup"
   ]
  },
  {
   "cell_type": "code",
   "execution_count": null,
   "metadata": {},
   "outputs": [],
   "source": []
  }
 ],
 "metadata": {
  "kernelspec": {
   "display_name": "Python 3",
   "language": "python",
   "name": "python3"
  },
  "language_info": {
   "codemirror_mode": {
    "name": "ipython",
    "version": 3
   },
   "file_extension": ".py",
   "mimetype": "text/x-python",
   "name": "python",
   "nbconvert_exporter": "python",
   "pygments_lexer": "ipython3",
   "version": "3.7.4"
  }
 },
 "nbformat": 4,
 "nbformat_minor": 2
}
